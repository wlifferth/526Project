{
 "cells": [
  {
   "cell_type": "code",
   "execution_count": 22,
   "metadata": {
    "collapsed": true
   },
   "outputs": [],
   "source": [
    "import pandas as pd\n",
    "import matplotlib.pyplot as plt"
   ]
  },
  {
   "cell_type": "code",
   "execution_count": 36,
   "metadata": {
    "collapsed": true
   },
   "outputs": [],
   "source": [
    "df = pd.read_csv('CA_2013_onwards.csv')"
   ]
  },
  {
   "cell_type": "code",
   "execution_count": 20,
   "metadata": {},
   "outputs": [
    {
     "name": "stdout",
     "output_type": "stream",
     "text": [
      "Index(['id', 'state', 'stop_date', 'location_raw', 'county_name',\n",
      "       'county_fips', 'fine_grained_location', 'police_department',\n",
      "       'driver_gender', 'driver_age_raw', 'driver_age', 'driver_race_raw',\n",
      "       'driver_race', 'violation_raw', 'violation', 'search_conducted',\n",
      "       'search_type_raw', 'search_type', 'contraband_found', 'stop_outcome',\n",
      "       'is_arrested', 'ethnicity'],\n",
      "      dtype='object')\n"
     ]
    },
    {
     "data": {
      "text/html": [
       "<div>\n",
       "<style>\n",
       "    .dataframe thead tr:only-child th {\n",
       "        text-align: right;\n",
       "    }\n",
       "\n",
       "    .dataframe thead th {\n",
       "        text-align: left;\n",
       "    }\n",
       "\n",
       "    .dataframe tbody tr th {\n",
       "        vertical-align: top;\n",
       "    }\n",
       "</style>\n",
       "<table border=\"1\" class=\"dataframe\">\n",
       "  <thead>\n",
       "    <tr style=\"text-align: right;\">\n",
       "      <th></th>\n",
       "      <th>id</th>\n",
       "      <th>state</th>\n",
       "      <th>stop_date</th>\n",
       "      <th>location_raw</th>\n",
       "      <th>county_name</th>\n",
       "      <th>county_fips</th>\n",
       "      <th>fine_grained_location</th>\n",
       "      <th>police_department</th>\n",
       "      <th>driver_gender</th>\n",
       "      <th>driver_age_raw</th>\n",
       "      <th>...</th>\n",
       "      <th>driver_race</th>\n",
       "      <th>violation_raw</th>\n",
       "      <th>violation</th>\n",
       "      <th>search_conducted</th>\n",
       "      <th>search_type_raw</th>\n",
       "      <th>search_type</th>\n",
       "      <th>contraband_found</th>\n",
       "      <th>stop_outcome</th>\n",
       "      <th>is_arrested</th>\n",
       "      <th>ethnicity</th>\n",
       "    </tr>\n",
       "  </thead>\n",
       "  <tbody>\n",
       "    <tr>\n",
       "      <th>0</th>\n",
       "      <td>CA-2013-0000001</td>\n",
       "      <td>CA</td>\n",
       "      <td>2013-01-01</td>\n",
       "      <td>San Diego</td>\n",
       "      <td>San Diego County</td>\n",
       "      <td>6073.0</td>\n",
       "      <td>NaN</td>\n",
       "      <td>NaN</td>\n",
       "      <td>M</td>\n",
       "      <td>25-32</td>\n",
       "      <td>...</td>\n",
       "      <td>Hispanic</td>\n",
       "      <td>Mechanical or Nonmoving Violation (VC)</td>\n",
       "      <td>Equipment</td>\n",
       "      <td>False</td>\n",
       "      <td>No Search</td>\n",
       "      <td>NaN</td>\n",
       "      <td>False</td>\n",
       "      <td>CHP 215</td>\n",
       "      <td>False</td>\n",
       "      <td>H</td>\n",
       "    </tr>\n",
       "    <tr>\n",
       "      <th>1</th>\n",
       "      <td>CA-2013-0000002</td>\n",
       "      <td>CA</td>\n",
       "      <td>2013-01-01</td>\n",
       "      <td>San Diego</td>\n",
       "      <td>San Diego County</td>\n",
       "      <td>6073.0</td>\n",
       "      <td>NaN</td>\n",
       "      <td>NaN</td>\n",
       "      <td>F</td>\n",
       "      <td>33-39</td>\n",
       "      <td>...</td>\n",
       "      <td>Black</td>\n",
       "      <td>Moving Violation (VC)</td>\n",
       "      <td>Moving violation</td>\n",
       "      <td>False</td>\n",
       "      <td>No Search</td>\n",
       "      <td>NaN</td>\n",
       "      <td>False</td>\n",
       "      <td>CHP 215</td>\n",
       "      <td>False</td>\n",
       "      <td>B</td>\n",
       "    </tr>\n",
       "    <tr>\n",
       "      <th>2</th>\n",
       "      <td>CA-2013-0000003</td>\n",
       "      <td>CA</td>\n",
       "      <td>2013-01-01</td>\n",
       "      <td>San Diego</td>\n",
       "      <td>San Diego County</td>\n",
       "      <td>6073.0</td>\n",
       "      <td>NaN</td>\n",
       "      <td>NaN</td>\n",
       "      <td>M</td>\n",
       "      <td>25-32</td>\n",
       "      <td>...</td>\n",
       "      <td>White</td>\n",
       "      <td>Moving Violation (VC)</td>\n",
       "      <td>Moving violation</td>\n",
       "      <td>False</td>\n",
       "      <td>No Search</td>\n",
       "      <td>NaN</td>\n",
       "      <td>False</td>\n",
       "      <td>CHP 215</td>\n",
       "      <td>False</td>\n",
       "      <td>W</td>\n",
       "    </tr>\n",
       "    <tr>\n",
       "      <th>3</th>\n",
       "      <td>CA-2013-0000004</td>\n",
       "      <td>CA</td>\n",
       "      <td>2013-01-01</td>\n",
       "      <td>San Diego</td>\n",
       "      <td>San Diego County</td>\n",
       "      <td>6073.0</td>\n",
       "      <td>NaN</td>\n",
       "      <td>NaN</td>\n",
       "      <td>M</td>\n",
       "      <td>49+</td>\n",
       "      <td>...</td>\n",
       "      <td>White</td>\n",
       "      <td>Mechanical or Nonmoving Violation (VC)</td>\n",
       "      <td>Equipment</td>\n",
       "      <td>False</td>\n",
       "      <td>No Search</td>\n",
       "      <td>NaN</td>\n",
       "      <td>False</td>\n",
       "      <td>CHP 215</td>\n",
       "      <td>False</td>\n",
       "      <td>W</td>\n",
       "    </tr>\n",
       "    <tr>\n",
       "      <th>4</th>\n",
       "      <td>CA-2013-0000005</td>\n",
       "      <td>CA</td>\n",
       "      <td>2013-01-01</td>\n",
       "      <td>San Diego</td>\n",
       "      <td>San Diego County</td>\n",
       "      <td>6073.0</td>\n",
       "      <td>NaN</td>\n",
       "      <td>NaN</td>\n",
       "      <td>M</td>\n",
       "      <td>40-48</td>\n",
       "      <td>...</td>\n",
       "      <td>Black</td>\n",
       "      <td>Mechanical or Nonmoving Violation (VC)</td>\n",
       "      <td>Equipment</td>\n",
       "      <td>False</td>\n",
       "      <td>No Search</td>\n",
       "      <td>NaN</td>\n",
       "      <td>False</td>\n",
       "      <td>CHP 215</td>\n",
       "      <td>False</td>\n",
       "      <td>B</td>\n",
       "    </tr>\n",
       "  </tbody>\n",
       "</table>\n",
       "<p>5 rows × 22 columns</p>\n",
       "</div>"
      ],
      "text/plain": [
       "                id state   stop_date location_raw       county_name  \\\n",
       "0  CA-2013-0000001    CA  2013-01-01    San Diego  San Diego County   \n",
       "1  CA-2013-0000002    CA  2013-01-01    San Diego  San Diego County   \n",
       "2  CA-2013-0000003    CA  2013-01-01    San Diego  San Diego County   \n",
       "3  CA-2013-0000004    CA  2013-01-01    San Diego  San Diego County   \n",
       "4  CA-2013-0000005    CA  2013-01-01    San Diego  San Diego County   \n",
       "\n",
       "   county_fips  fine_grained_location  police_department driver_gender  \\\n",
       "0       6073.0                    NaN                NaN             M   \n",
       "1       6073.0                    NaN                NaN             F   \n",
       "2       6073.0                    NaN                NaN             M   \n",
       "3       6073.0                    NaN                NaN             M   \n",
       "4       6073.0                    NaN                NaN             M   \n",
       "\n",
       "  driver_age_raw    ...     driver_race  \\\n",
       "0          25-32    ...        Hispanic   \n",
       "1          33-39    ...           Black   \n",
       "2          25-32    ...           White   \n",
       "3            49+    ...           White   \n",
       "4          40-48    ...           Black   \n",
       "\n",
       "                            violation_raw         violation search_conducted  \\\n",
       "0  Mechanical or Nonmoving Violation (VC)         Equipment            False   \n",
       "1                   Moving Violation (VC)  Moving violation            False   \n",
       "2                   Moving Violation (VC)  Moving violation            False   \n",
       "3  Mechanical or Nonmoving Violation (VC)         Equipment            False   \n",
       "4  Mechanical or Nonmoving Violation (VC)         Equipment            False   \n",
       "\n",
       "  search_type_raw  search_type contraband_found stop_outcome is_arrested  \\\n",
       "0       No Search          NaN            False      CHP 215       False   \n",
       "1       No Search          NaN            False      CHP 215       False   \n",
       "2       No Search          NaN            False      CHP 215       False   \n",
       "3       No Search          NaN            False      CHP 215       False   \n",
       "4       No Search          NaN            False      CHP 215       False   \n",
       "\n",
       "  ethnicity  \n",
       "0         H  \n",
       "1         B  \n",
       "2         W  \n",
       "3         W  \n",
       "4         B  \n",
       "\n",
       "[5 rows x 22 columns]"
      ]
     },
     "execution_count": 20,
     "metadata": {},
     "output_type": "execute_result"
    }
   ],
   "source": [
    "print(df.columns)\n",
    "df.head()"
   ]
  },
  {
   "cell_type": "markdown",
   "metadata": {},
   "source": [
    "# Looking at Individual Attributes"
   ]
  },
  {
   "cell_type": "code",
   "execution_count": 10,
   "metadata": {},
   "outputs": [
    {
     "data": {
      "text/plain": [
       "array([ nan])"
      ]
     },
     "execution_count": 10,
     "metadata": {},
     "output_type": "execute_result"
    }
   ],
   "source": [
    "# We don't have any non 'nan' stop_time values, so let's drop that\n",
    "df['stop_time'].unique()"
   ]
  },
  {
   "cell_type": "code",
   "execution_count": 14,
   "metadata": {},
   "outputs": [
    {
     "data": {
      "text/plain": [
       "array(['CA'], dtype=object)"
      ]
     },
     "execution_count": 14,
     "metadata": {},
     "output_type": "execute_result"
    }
   ],
   "source": [
    "# All our state values are \"CA\" (because this file is just for California), so we'll drop that\n",
    "df['state'].unique()"
   ]
  },
  {
   "cell_type": "code",
   "execution_count": 16,
   "metadata": {},
   "outputs": [
    {
     "name": "stdout",
     "output_type": "stream",
     "text": [
      "146\n",
      "55\n"
     ]
    }
   ],
   "source": [
    "# There are 146 distinct \"Raw Locations\" but it's unclear what they actual are and there are 55 distinct \"Counties\" which are very clear, so we'll drop Raw Locations\n",
    "print(len(df['location_raw'].unique()))\n",
    "print(len(df['county_name'].unique()))"
   ]
  },
  {
   "cell_type": "code",
   "execution_count": 17,
   "metadata": {},
   "outputs": [
    {
     "data": {
      "text/plain": [
       "array([ nan])"
      ]
     },
     "execution_count": 17,
     "metadata": {},
     "output_type": "execute_result"
    }
   ],
   "source": [
    "# We don't have any non 'nan' fine_grained_location values, so let's drop that\n",
    "df['fine_grained_location'].unique()"
   ]
  },
  {
   "cell_type": "code",
   "execution_count": 19,
   "metadata": {},
   "outputs": [
    {
     "data": {
      "text/plain": [
       "array([ nan])"
      ]
     },
     "execution_count": 19,
     "metadata": {},
     "output_type": "execute_result"
    }
   ],
   "source": [
    "# We don't have any non 'nan' police_department values, so let's drop that\n",
    "df['police_department'].unique()"
   ]
  },
  {
   "cell_type": "code",
   "execution_count": 24,
   "metadata": {},
   "outputs": [
    {
     "data": {
      "text/plain": [
       "M    10172081\n",
       "F     4364257\n",
       "Name: driver_gender, dtype: int64"
      ]
     },
     "execution_count": 24,
     "metadata": {},
     "output_type": "execute_result"
    }
   ],
   "source": [
    "# This is fairly rich data, so we'll definitely keep this\n",
    "df['driver_gender'].unique()\n",
    "df['driver_gender'].value_counts()"
   ]
  },
  {
   "cell_type": "code",
   "execution_count": 26,
   "metadata": {},
   "outputs": [
    {
     "name": "stdout",
     "output_type": "stream",
     "text": [
      "['25-32' '33-39' '49+' '40-48' '15-25' '0-14']\n",
      "[ nan]\n"
     ]
    }
   ],
   "source": [
    "print(df['driver_age_raw'].unique())\n",
    "print(df['driver_age'].unique())"
   ]
  },
  {
   "cell_type": "code",
   "execution_count": 28,
   "metadata": {},
   "outputs": [
    {
     "name": "stdout",
     "output_type": "stream",
     "text": [
      "White                     6184252\n",
      "Hispanic                  4954207\n",
      "Black                     1221604\n",
      "Other                     1126556\n",
      "Other Asian                935395\n",
      "Indian                      37413\n",
      "Asian Indian                28063\n",
      "Filipino                    17955\n",
      "Chinese                      8845\n",
      "Other Pacific Islander       7585\n",
      "Vietnamese                   5226\n",
      "Korean                       3829\n",
      "Japanese                     1931\n",
      "Samoan                       1528\n",
      "Guamanian                     673\n",
      "Hawaiian                      612\n",
      "Cambodian                     382\n",
      "Laotian                       282\n",
      "Name: driver_race_raw, dtype: int64\n",
      "White       6184252\n",
      "Hispanic    4954207\n",
      "Black       1221604\n",
      "Other       1163969\n",
      "Asian       1012306\n",
      "Name: driver_race, dtype: int64\n"
     ]
    }
   ],
   "source": [
    "# The driver_race attribute is actually cleaned well, so we'll drop driver_race_raw and just keep driver_race\n",
    "print(df['driver_race_raw'].value_counts())\n",
    "print(df['driver_race'].value_counts())"
   ]
  },
  {
   "cell_type": "code",
   "execution_count": 29,
   "metadata": {},
   "outputs": [
    {
     "name": "stdout",
     "output_type": "stream",
     "text": [
      "Moving Violation (VC)                     5950715\n",
      "Mechanical or Nonmoving Violation (VC)    2861782\n",
      "Motorist/Public Service                   2742567\n",
      "Traffic Collision                         1384192\n",
      "Inspection/Scale Facility                 1044033\n",
      "DUI Check                                  445520\n",
      "Penal Code/All Other Codes                  74412\n",
      "Other Agency Assist/BOLO/APB/Warrant        33117\n",
      "Name: violation_raw, dtype: int64\n",
      "Moving violation    5950715\n",
      "Other               5278321\n",
      "Equipment           2861782\n",
      "DUI                  445520\n",
      "Name: violation, dtype: int64\n"
     ]
    }
   ],
   "source": [
    "# Again, the cleaner violation attribute it cleaner than the violation_raw and will probably serve us better, so we can drop violation_raw\n",
    "print(df['violation_raw'].value_counts())\n",
    "print(df['violation'].value_counts())"
   ]
  },
  {
   "cell_type": "code",
   "execution_count": 30,
   "metadata": {},
   "outputs": [
    {
     "data": {
      "text/plain": [
       "False    14057611\n",
       "True       478727\n",
       "Name: search_conducted, dtype: int64"
      ]
     },
     "execution_count": 30,
     "metadata": {},
     "output_type": "execute_result"
    }
   ],
   "source": [
    "df['search_conducted'].value_counts()"
   ]
  },
  {
   "cell_type": "code",
   "execution_count": 31,
   "metadata": {},
   "outputs": [
    {
     "name": "stdout",
     "output_type": "stream",
     "text": [
      "No Search                           14057611\n",
      "Incidental to Arrest                  275590\n",
      "Vehicle Inventory                     145622\n",
      "Pat Down/Frisk                         27745\n",
      "Probable Cause (positive)              13323\n",
      "Parole/Probation/Warrant                6232\n",
      "Probable Cause (negative)               4846\n",
      "Consent (negative) 202D Required        2338\n",
      "Consent (positive) 202D Required        1928\n",
      "Other                                   1103\n",
      "Name: search_type_raw, dtype: int64\n",
      "0                          NaN\n",
      "1                          NaN\n",
      "2                          NaN\n",
      "3                          NaN\n",
      "4                          NaN\n",
      "5                          NaN\n",
      "6                          NaN\n",
      "7                          NaN\n",
      "8                          NaN\n",
      "9                          NaN\n",
      "10                         NaN\n",
      "11                         NaN\n",
      "12                         NaN\n",
      "13                         NaN\n",
      "14                         NaN\n",
      "15                         NaN\n",
      "16                         NaN\n",
      "17                         NaN\n",
      "18                         NaN\n",
      "19                         NaN\n",
      "20                         NaN\n",
      "21                         NaN\n",
      "22                         NaN\n",
      "23                         NaN\n",
      "24                         NaN\n",
      "25                         NaN\n",
      "26                         NaN\n",
      "27                         NaN\n",
      "28                         NaN\n",
      "29                   Inventory\n",
      "                   ...        \n",
      "14536308                   NaN\n",
      "14536309                   NaN\n",
      "14536310                   NaN\n",
      "14536311    Incident to Arrest\n",
      "14536312                   NaN\n",
      "14536313                   NaN\n",
      "14536314    Incident to Arrest\n",
      "14536315                   NaN\n",
      "14536316    Incident to Arrest\n",
      "14536317                   NaN\n",
      "14536318                   NaN\n",
      "14536319                   NaN\n",
      "14536320                   NaN\n",
      "14536321                   NaN\n",
      "14536322                   NaN\n",
      "14536323                   NaN\n",
      "14536324                   NaN\n",
      "14536325                   NaN\n",
      "14536326                   NaN\n",
      "14536327                   NaN\n",
      "14536328                   NaN\n",
      "14536329                   NaN\n",
      "14536330                   NaN\n",
      "14536331                   NaN\n",
      "14536332                   NaN\n",
      "14536333                   NaN\n",
      "14536334                   NaN\n",
      "14536335                   NaN\n",
      "14536336                   NaN\n",
      "14536337                   NaN\n",
      "Name: search_type, Length: 14536338, dtype: object\n"
     ]
    }
   ],
   "source": [
    "# Here the processed search_type attribute is totally useless. We can drop it can just keep search_type_raw as our metric here\n",
    "print(df['search_type_raw'].value_counts())\n",
    "print(df['search_type'])"
   ]
  },
  {
   "cell_type": "code",
   "execution_count": 32,
   "metadata": {},
   "outputs": [
    {
     "data": {
      "text/plain": [
       "False    14064795\n",
       "True        15251\n",
       "Name: contraband_found, dtype: int64"
      ]
     },
     "execution_count": 32,
     "metadata": {},
     "output_type": "execute_result"
    }
   ],
   "source": [
    "df['contraband_found'].value_counts()"
   ]
  },
  {
   "cell_type": "code",
   "execution_count": 33,
   "metadata": {},
   "outputs": [
    {
     "data": {
      "text/plain": [
       "CHP 215                    6719255\n",
       "Motorist/Public Service    3250381\n",
       "Verbal Warning             2561091\n",
       "Traffic Collision          1130046\n",
       "Arrest                      366768\n",
       "CHP 281                     337226\n",
       "CVSA Sticker                160156\n",
       "Turnover/Agency Assist       11415\n",
       "Name: stop_outcome, dtype: int64"
      ]
     },
     "execution_count": 33,
     "metadata": {},
     "output_type": "execute_result"
    }
   ],
   "source": [
    "df['stop_outcome'].value_counts()"
   ]
  },
  {
   "cell_type": "code",
   "execution_count": 34,
   "metadata": {},
   "outputs": [
    {
     "data": {
      "text/plain": [
       "False    14169570\n",
       "True       366768\n",
       "Name: is_arrested, dtype: int64"
      ]
     },
     "execution_count": 34,
     "metadata": {},
     "output_type": "execute_result"
    }
   ],
   "source": [
    "df['is_arrested'].value_counts()"
   ]
  },
  {
   "cell_type": "code",
   "execution_count": 35,
   "metadata": {},
   "outputs": [
    {
     "data": {
      "text/plain": [
       "W    6184252\n",
       "H    4954207\n",
       "B    1221604\n",
       "O    1126556\n",
       "A     935395\n",
       "I      37413\n",
       "Z      28063\n",
       "F      17955\n",
       "C       8845\n",
       "P       7585\n",
       "V       5226\n",
       "K       3829\n",
       "J       1931\n",
       "S       1528\n",
       "G        673\n",
       "U        612\n",
       "D        382\n",
       "L        282\n",
       "Name: ethnicity, dtype: int64"
      ]
     },
     "execution_count": 35,
     "metadata": {},
     "output_type": "execute_result"
    }
   ],
   "source": [
    "df['ethnicity'].value_counts()"
   ]
  },
  {
   "cell_type": "markdown",
   "metadata": {},
   "source": [
    "# Transform data set into something more useful"
   ]
  },
  {
   "cell_type": "code",
   "execution_count": 37,
   "metadata": {
    "collapsed": true
   },
   "outputs": [],
   "source": [
    "drop_list = ['id', 'stop_time', 'state', 'location_raw', 'fine_grained_location', 'police_department', 'driver_age', 'driver_race_raw', 'search_type',]\n",
    "\n",
    "df = df.drop(drop_list, axis=1)"
   ]
  },
  {
   "cell_type": "code",
   "execution_count": 40,
   "metadata": {},
   "outputs": [
    {
     "data": {
      "text/html": [
       "<div>\n",
       "<style>\n",
       "    .dataframe thead tr:only-child th {\n",
       "        text-align: right;\n",
       "    }\n",
       "\n",
       "    .dataframe thead th {\n",
       "        text-align: left;\n",
       "    }\n",
       "\n",
       "    .dataframe tbody tr th {\n",
       "        vertical-align: top;\n",
       "    }\n",
       "</style>\n",
       "<table border=\"1\" class=\"dataframe\">\n",
       "  <thead>\n",
       "    <tr style=\"text-align: right;\">\n",
       "      <th></th>\n",
       "      <th>stop_date</th>\n",
       "      <th>county_name</th>\n",
       "      <th>county_fips</th>\n",
       "      <th>driver_gender</th>\n",
       "      <th>driver_age_raw</th>\n",
       "      <th>driver_race</th>\n",
       "      <th>violation_raw</th>\n",
       "      <th>violation</th>\n",
       "      <th>search_conducted</th>\n",
       "      <th>search_type_raw</th>\n",
       "      <th>contraband_found</th>\n",
       "      <th>stop_outcome</th>\n",
       "      <th>is_arrested</th>\n",
       "      <th>ethnicity</th>\n",
       "    </tr>\n",
       "  </thead>\n",
       "  <tbody>\n",
       "    <tr>\n",
       "      <th>0</th>\n",
       "      <td>2013-01-01</td>\n",
       "      <td>San Diego County</td>\n",
       "      <td>6073.0</td>\n",
       "      <td>M</td>\n",
       "      <td>25-32</td>\n",
       "      <td>Hispanic</td>\n",
       "      <td>Mechanical or Nonmoving Violation (VC)</td>\n",
       "      <td>Equipment</td>\n",
       "      <td>False</td>\n",
       "      <td>No Search</td>\n",
       "      <td>False</td>\n",
       "      <td>CHP 215</td>\n",
       "      <td>False</td>\n",
       "      <td>H</td>\n",
       "    </tr>\n",
       "    <tr>\n",
       "      <th>1</th>\n",
       "      <td>2013-01-01</td>\n",
       "      <td>San Diego County</td>\n",
       "      <td>6073.0</td>\n",
       "      <td>F</td>\n",
       "      <td>33-39</td>\n",
       "      <td>Black</td>\n",
       "      <td>Moving Violation (VC)</td>\n",
       "      <td>Moving violation</td>\n",
       "      <td>False</td>\n",
       "      <td>No Search</td>\n",
       "      <td>False</td>\n",
       "      <td>CHP 215</td>\n",
       "      <td>False</td>\n",
       "      <td>B</td>\n",
       "    </tr>\n",
       "    <tr>\n",
       "      <th>2</th>\n",
       "      <td>2013-01-01</td>\n",
       "      <td>San Diego County</td>\n",
       "      <td>6073.0</td>\n",
       "      <td>M</td>\n",
       "      <td>25-32</td>\n",
       "      <td>White</td>\n",
       "      <td>Moving Violation (VC)</td>\n",
       "      <td>Moving violation</td>\n",
       "      <td>False</td>\n",
       "      <td>No Search</td>\n",
       "      <td>False</td>\n",
       "      <td>CHP 215</td>\n",
       "      <td>False</td>\n",
       "      <td>W</td>\n",
       "    </tr>\n",
       "    <tr>\n",
       "      <th>3</th>\n",
       "      <td>2013-01-01</td>\n",
       "      <td>San Diego County</td>\n",
       "      <td>6073.0</td>\n",
       "      <td>M</td>\n",
       "      <td>49+</td>\n",
       "      <td>White</td>\n",
       "      <td>Mechanical or Nonmoving Violation (VC)</td>\n",
       "      <td>Equipment</td>\n",
       "      <td>False</td>\n",
       "      <td>No Search</td>\n",
       "      <td>False</td>\n",
       "      <td>CHP 215</td>\n",
       "      <td>False</td>\n",
       "      <td>W</td>\n",
       "    </tr>\n",
       "    <tr>\n",
       "      <th>4</th>\n",
       "      <td>2013-01-01</td>\n",
       "      <td>San Diego County</td>\n",
       "      <td>6073.0</td>\n",
       "      <td>M</td>\n",
       "      <td>40-48</td>\n",
       "      <td>Black</td>\n",
       "      <td>Mechanical or Nonmoving Violation (VC)</td>\n",
       "      <td>Equipment</td>\n",
       "      <td>False</td>\n",
       "      <td>No Search</td>\n",
       "      <td>False</td>\n",
       "      <td>CHP 215</td>\n",
       "      <td>False</td>\n",
       "      <td>B</td>\n",
       "    </tr>\n",
       "  </tbody>\n",
       "</table>\n",
       "</div>"
      ],
      "text/plain": [
       "    stop_date       county_name  county_fips driver_gender driver_age_raw  \\\n",
       "0  2013-01-01  San Diego County       6073.0             M          25-32   \n",
       "1  2013-01-01  San Diego County       6073.0             F          33-39   \n",
       "2  2013-01-01  San Diego County       6073.0             M          25-32   \n",
       "3  2013-01-01  San Diego County       6073.0             M            49+   \n",
       "4  2013-01-01  San Diego County       6073.0             M          40-48   \n",
       "\n",
       "  driver_race                           violation_raw         violation  \\\n",
       "0    Hispanic  Mechanical or Nonmoving Violation (VC)         Equipment   \n",
       "1       Black                   Moving Violation (VC)  Moving violation   \n",
       "2       White                   Moving Violation (VC)  Moving violation   \n",
       "3       White  Mechanical or Nonmoving Violation (VC)         Equipment   \n",
       "4       Black  Mechanical or Nonmoving Violation (VC)         Equipment   \n",
       "\n",
       "   search_conducted search_type_raw contraband_found stop_outcome  \\\n",
       "0             False       No Search            False      CHP 215   \n",
       "1             False       No Search            False      CHP 215   \n",
       "2             False       No Search            False      CHP 215   \n",
       "3             False       No Search            False      CHP 215   \n",
       "4             False       No Search            False      CHP 215   \n",
       "\n",
       "   is_arrested ethnicity  \n",
       "0        False         H  \n",
       "1        False         B  \n",
       "2        False         W  \n",
       "3        False         W  \n",
       "4        False         B  "
      ]
     },
     "execution_count": 40,
     "metadata": {},
     "output_type": "execute_result"
    }
   ],
   "source": [
    "df.head()"
   ]
  },
  {
   "cell_type": "code",
   "execution_count": 41,
   "metadata": {
    "collapsed": true
   },
   "outputs": [],
   "source": [
    "df.to_csv('trimmed_data.csv')"
   ]
  }
 ],
 "metadata": {
  "kernelspec": {
   "display_name": "Python [conda root]",
   "language": "python",
   "name": "conda-root-py"
  },
  "language_info": {
   "codemirror_mode": {
    "name": "ipython",
    "version": 3
   },
   "file_extension": ".py",
   "mimetype": "text/x-python",
   "name": "python",
   "nbconvert_exporter": "python",
   "pygments_lexer": "ipython3",
   "version": "3.5.2"
  }
 },
 "nbformat": 4,
 "nbformat_minor": 2
}
